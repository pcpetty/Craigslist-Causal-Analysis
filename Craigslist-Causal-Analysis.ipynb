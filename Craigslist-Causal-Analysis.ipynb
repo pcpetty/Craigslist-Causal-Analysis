{
 "cells": [
  {
   "cell_type": "code",
   "execution_count": 1,
   "metadata": {},
   "outputs": [
    {
     "name": "stdout",
     "output_type": "stream",
     "text": [
      "Model 1 R-squared: 0.1278, Adjusted R-squared: 0.1257\n",
      "Model 2 R-squared: 0.2819, Adjusted R-squared: 0.2763\n",
      "Model 3 R-squared: 0.2838, Adjusted R-squared: 0.2777\n",
      "\n",
      "ANOVA Results Comparing Model 2 and Model 3:\n",
      "   df_resid           ssr  df_diff       ss_diff         F    Pr(>F)\n",
      "0    3064.0  5.270049e+08      0.0           NaN       NaN       NaN\n",
      "1    3062.0  5.256050e+08      2.0  1.399862e+06  4.077564  0.017041\n",
      "\n",
      "Model Log-Likelihoods, AICs, and BICs:\n",
      "Model 1: Log-Likelihood = -37528.12, AIC = 75082.25, BIC = 75166.97\n",
      "Model 2: Log-Likelihood = -22989.87, AIC = 46029.75, BIC = 46180.64\n",
      "Model 3: Log-Likelihood = -22985.77, AIC = 46025.53, BIC = 46188.49\n",
      "\n",
      "Predictive RMSE for Model 2: 410.81\n",
      "Predictive RMSE for Model 3: 409.93\n"
     ]
    }
   ],
   "source": [
    "# Import necessary libraries\n",
    "import pandas as pd\n",
    "import numpy as np\n",
    "import statsmodels.api as sm\n",
    "from statsmodels.stats.anova import anova_lm\n",
    "\n",
    "# Set seed for reproducibility\n",
    "np.random.seed(1)\n",
    "\n",
    "# Load the Craigslist housing data\n",
    "housing = pd.read_csv('craigslist.csv')\n",
    "\n",
    "# Fit initial model with basic features\n",
    "model1 = sm.OLS.from_formula('price ~ type + sqfeet + beds + baths', data=housing).fit()\n",
    "# Fit second model with additional features\n",
    "model2 = sm.OLS.from_formula('price ~ type + sqfeet + beds + baths + comes_furnished + laundry_options + parking_options + smoking_allowed', data=housing).fit()\n",
    "# Fit final model with all features\n",
    "model3 = sm.OLS.from_formula('price ~ type + sqfeet + beds + baths + comes_furnished + laundry_options + parking_options + smoking_allowed + cats_allowed + dogs_allowed', data=housing).fit()\n",
    "\n",
    "# Print R-squared and Adjusted R-squared for model comparison\n",
    "print(f\"Model 1 R-squared: {model1.rsquared.round(4)}, Adjusted R-squared: {model1.rsquared_adj.round(4)}\")\n",
    "print(f\"Model 2 R-squared: {model2.rsquared.round(4)}, Adjusted R-squared: {model2.rsquared_adj.round(4)}\")\n",
    "print(f\"Model 3 R-squared: {model3.rsquared.round(4)}, Adjusted R-squared: {model3.rsquared_adj.round(4)}\")\n",
    "\n",
    "# Run an F-test to compare model2 and model3\n",
    "anova_results = anova_lm(model2, model3)\n",
    "print(\"\\nANOVA Results Comparing Model 2 and Model 3:\")\n",
    "print(anova_results)\n",
    "\n",
    "# Log-Likelihood, AIC, and BIC for all models\n",
    "print(\"\\nModel Log-Likelihoods, AICs, and BICs:\")\n",
    "for i, model in enumerate([model1, model2, model3], 1):\n",
    "    print(f\"Model {i}: Log-Likelihood = {model.llf:.2f}, AIC = {model.aic:.2f}, BIC = {model.bic:.2f}\")\n",
    "\n",
    "# Split data into training and test sets\n",
    "indices = range(len(housing))\n",
    "train_size = int(0.8 * len(indices))\n",
    "train_ind = np.random.choice(indices, size=train_size, replace=False)\n",
    "test_ind = list(set(indices) - set(train_ind))\n",
    "\n",
    "# Create training and testing datasets\n",
    "housing_train = housing.iloc[train_ind]\n",
    "housing_test = housing.iloc[test_ind]\n",
    "\n",
    "# Fit models using training data\n",
    "model2_train = sm.OLS.from_formula('price ~ type + sqfeet + beds + baths + comes_furnished + laundry_options + parking_options + smoking_allowed', data=housing_train).fit()\n",
    "model3_train = sm.OLS.from_formula('price ~ type + sqfeet + beds + baths + comes_furnished + laundry_options + parking_options + smoking_allowed + cats_allowed + dogs_allowed', data=housing_train).fit()\n",
    "\n",
    "# Predict prices on test set\n",
    "predicted_mod2 = model2_train.predict(housing_test)\n",
    "predicted_mod3 = model3_train.predict(housing_test)\n",
    "\n",
    "# Calculate PRMSE for both models\n",
    "prmse2 = np.mean((housing_test.price - predicted_mod2) ** 2) ** 0.5\n",
    "prmse3 = np.mean((housing_test.price - predicted_mod3) ** 2) ** 0.5\n",
    "\n",
    "# Print PRMSE for both models\n",
    "print(f\"\\nPredictive RMSE for Model 2: {prmse2:.2f}\")\n",
    "print(f\"Predictive RMSE for Model 3: {prmse3:.2f}\")"
   ]
  }
 ],
 "metadata": {
  "kernelspec": {
   "display_name": "condavenv310",
   "language": "python",
   "name": "python3"
  },
  "language_info": {
   "codemirror_mode": {
    "name": "ipython",
    "version": 3
   },
   "file_extension": ".py",
   "mimetype": "text/x-python",
   "name": "python",
   "nbconvert_exporter": "python",
   "pygments_lexer": "ipython3",
   "version": "3.10.14"
  }
 },
 "nbformat": 4,
 "nbformat_minor": 2
}
